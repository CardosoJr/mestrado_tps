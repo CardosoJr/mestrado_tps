{
 "cells": [
  {
   "cell_type": "code",
   "execution_count": 1,
   "metadata": {},
   "outputs": [],
   "source": [
    "import margin_loss"
   ]
  },
  {
   "cell_type": "code",
   "execution_count": 2,
   "metadata": {},
   "outputs": [],
   "source": [
    "\n",
    "from tensorflow.keras import layers\n",
    "from tensorflow.keras.models import Model\n",
    "from tensorflow.keras.optimizers import SGD\n",
    "from tensorflow.keras.callbacks import LearningRateScheduler, Callback\n",
    "import tensorflow.keras.backend as K\n",
    "from affinity_loss import *\n",
    "from datasets import inbalanced_mnist\n",
    "\n",
    "import numpy as np\n",
    "import os, tarfile\n",
    "import matplotlib.pyplot as plt"
   ]
  },
  {
   "cell_type": "code",
   "execution_count": null,
   "metadata": {},
   "outputs": [],
   "source": [
    "def conv_bn_relu(input, ch):\n",
    "    x = layers.Conv2D(ch, 3, padding=\"same\")(input)\n",
    "    x = layers.BatchNormalization()(x)\n",
    "    return layers.Activation(\"relu\")(x)\n",
    "\n",
    "def create_models():\n",
    "    input = layers.Input((28,28,1))\n",
    "    x = conv_bn_relu(input, 32)\n",
    "    x = layers.AveragePooling2D(2)(x)\n",
    "    x = conv_bn_relu(x, 64)\n",
    "    x = layers.AveragePooling2D(2)(x)\n",
    "    x = conv_bn_relu(x, 128)\n",
    "    x = layers.GlobalAveragePooling2D()(x)\n",
    "    x = layers.Dense(2, name=\"latent_features\", kernel_initializer=\"he_normal\")(x)\n",
    "    x = layers.BatchNormalization()(x)\n",
    "    return Model(input, x)\n",
    "\n",
    "def acc(y_true_plusone, y_pred_plusone):\n",
    "    y_true = K.argmax(y_true_plusone[:, :-1], axis=-1)\n",
    "    y_pred = K.argmax(y_pred_plusone[:, :-1], axis=-1)\n",
    "    equals = K.cast(K.equal(y_true, y_pred), \"float\")\n",
    "    return K.mean(equals)\n",
    "\n",
    "def step_decay(epoch):\n",
    "    x = 1e-3\n",
    "    if epoch >= 75: x /= 5.0\n",
    "    return x\n",
    "\n",
    "class EmbeddingCallback(Callback):\n",
    "    def __init__(self, model, X_train, X_test, y_train, y_test):\n",
    "        self.model = model\n",
    "        self.X_train, self.y_train = X_train, y_train[:,:10]\n",
    "        self.X_test, self.y_test = X_test, y_test[:,:10]\n",
    "\n",
    "    def plot(self, X, y, title):\n",
    "        plt.figure(figsize=(10,8))\n",
    "        latent_model = Model(self.model.input, self.model.get_layer(\"latent_features\").output)\n",
    "        embedding = latent_model.predict(X, batch_size=128)\n",
    "        plt.clf()\n",
    "        cmap = plt.get_cmap(\"Set2\")\n",
    "        for i in range(y.shape[1]):\n",
    "            filtered = y[:, i] == 1.0\n",
    "            plt.scatter(embedding[filtered, 0], embedding[filtered, 1], marker=\"$\"+str(i)+\"$\", alpha=0.5, color=cmap(i), )\n",
    "        plt.savefig(title+\".png\")\n",
    "\n",
    "    def on_epoch_end(self, epoch, logs):\n",
    "        output_dir = \"mnist_inbalanced\"\n",
    "        if not os.path.exists(output_dir):\n",
    "            os.mkdir(output_dir)\n",
    "        self.plot(self.X_train, self.y_train, f\"{output_dir}/mnist_train_{epoch:03}\")\n",
    "        self.plot(self.X_test, self.y_test, f\"{output_dir}/mnist_test_{epoch:03}\")\n",
    "\n",
    "def train(inbalance_size, epochs = 200):\n",
    "    (X_train, y_train), (X_test, y_test) = inbalanced_mnist(inbalance_size)\n",
    "\n",
    "    model = create_models()\n",
    "    model.compile(\"adam\", affinity_loss(0.75), [acc])\n",
    "\n",
    "    scheduler = LearningRateScheduler(step_decay)\n",
    "    cb = EmbeddingCallback(model, X_train, X_test, y_train, y_test)\n",
    "\n",
    "    history = model.fit(X_train, y_train, validation_data=(X_test, y_test), callbacks=[cb, scheduler],\n",
    "                        batch_size=128, epochs=epochs, verbose=1).history\n",
    "\n",
    "    with tarfile.open(\"mnist_inbalanced.tar\", \"w\") as tar:\n",
    "        tar.add(\"mnist_inbalanced\")"
   ]
  },
  {
   "cell_type": "code",
   "execution_count": null,
   "metadata": {},
   "outputs": [],
   "source": [
    "model = create_models()"
   ]
  },
  {
   "cell_type": "code",
   "execution_count": null,
   "metadata": {},
   "outputs": [],
   "source": [
    "train(100, epochs = 5)"
   ]
  }
 ],
 "metadata": {
  "interpreter": {
   "hash": "b3ba2566441a7c06988d0923437866b63cedc61552a5af99d1f4fb67d367b25f"
  },
  "kernelspec": {
   "display_name": "Python 3.8.5 64-bit ('base': conda)",
   "language": "python",
   "name": "python3"
  },
  "language_info": {
   "codemirror_mode": {
    "name": "ipython",
    "version": 3
   },
   "file_extension": ".py",
   "mimetype": "text/x-python",
   "name": "python",
   "nbconvert_exporter": "python",
   "pygments_lexer": "ipython3",
   "version": "3.8.5"
  },
  "orig_nbformat": 4
 },
 "nbformat": 4,
 "nbformat_minor": 2
}
